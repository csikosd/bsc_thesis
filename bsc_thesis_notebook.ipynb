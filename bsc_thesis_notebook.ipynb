{
 "cells": [
  {
   "cell_type": "markdown",
   "metadata": {},
   "source": [
    "# Szakdolgozat \n",
    "### Véges állapotú automaták tanulása genetikus algoritmussal\n",
    "#### Szerző: Csikós Dominik\n",
    "#### Témavezető: Borbély Gábor"
   ]
  },
  {
   "cell_type": "code",
   "execution_count": null,
   "metadata": {},
   "outputs": [],
   "source": [
    "import random\n",
    "import numpy as np\n",
    "import os\n",
    "import shutil\n",
    "import subprocess\n",
    "import math\n",
    "import operator\n",
    "from graphviz import Digraph\n",
    "from graphviz import Source\n",
    "import sys"
   ]
  },
  {
   "cell_type": "markdown",
   "metadata": {},
   "source": [
    "### Hiperparaméterek:"
   ]
  },
  {
   "cell_type": "code",
   "execution_count": null,
   "metadata": {},
   "outputs": [],
   "source": [
    "start_pop = 'gens/gen'\n",
    "pop_size = 20\n",
    "max_it = 200\n",
    "wfsa_path = 'wfsa_win64/wfsa.exe'\n",
    "data_path = 'wfsa/data/proquants.txt'\n",
    "delta = 0\n"
   ]
  },
  {
   "cell_type": "markdown",
   "metadata": {},
   "source": [
    "### Automata beolvasása egy dictionarybe függvény:"
   ]
  },
  {
   "cell_type": "code",
   "execution_count": null,
   "metadata": {},
   "outputs": [],
   "source": [
    "def readautomaton(filename):\n",
    "    with open(filename) as f:\n",
    "        content = f.readlines()\n",
    "    A = dict()\n",
    "    for i in range(3,len(content)):\n",
    "        sor = []\n",
    "        l = content[i].split(\" \")\n",
    "        a = l[0]\n",
    "        for j in range(1,len(l),2):\n",
    "            sor.append(l[j])\n",
    "        try:\n",
    "            sor.remove('\\n')\n",
    "        except:\n",
    "            pass\n",
    "        if a in A:\n",
    "            A[a].append(sor)\n",
    "        else:\n",
    "            A[a] = [sor]\n",
    "    return A"
   ]
  },
  {
   "cell_type": "markdown",
   "metadata": {},
   "source": [
    "### Két állapot összeillesztésére függvény:"
   ]
  },
  {
   "cell_type": "code",
   "execution_count": null,
   "metadata": {},
   "outputs": [],
   "source": [
    "def rmdups(x):\n",
    "    return list(dict.fromkeys(x))"
   ]
  },
  {
   "cell_type": "code",
   "execution_count": null,
   "metadata": {},
   "outputs": [],
   "source": [
    "def mergestate(A,s,t):\n",
    "    l = len(A)\n",
    "    l1 = l+1\n",
    "    name = 'HUB' + str(l1) #új név létrehozás\n",
    "    while name in A:\n",
    "        name = name + '.'\n",
    "    for i in A: #új állapot bemeneteinek felírása\n",
    "        if len(A[i][1]) != 0:\n",
    "            if (s in A[i][1]):\n",
    "                A[i][1].remove(s)\n",
    "                A[i][1].append(name)\n",
    "            if (t in A[i][1]):\n",
    "                A[i][1].remove(t)\n",
    "                A[i][1].append(name)\n",
    "        A[i][1] = rmdups(A[i][1])\n",
    "    A[str(name)] = [list(set(A[s][0]) | set(A[t][0]))] #új állapot emissziói\n",
    "    out = list(set(A[s][1]) | set(A[t][1])) #új állapot kimenetei(önmaga is akár)\n",
    "    A[str(name)].append(out) #új állapot kimenetei\n",
    "    del A[s]\n",
    "    del A[t]\n",
    "    return A"
   ]
  },
  {
   "cell_type": "markdown",
   "metadata": {},
   "source": [
    "### Egy állapot szétszedésére függvény:"
   ]
  },
  {
   "cell_type": "code",
   "execution_count": null,
   "metadata": {},
   "outputs": [],
   "source": [
    "def splitstate(A,s):\n",
    "    v = []\n",
    "    r = []\n",
    "    #s-hez kitalálni új nevet: s_uj, figyelni h uj nev legyen\n",
    "    l = ''.join([i for i in s if not i.isdigit()])\n",
    "    j = 1\n",
    "    while (l+(str(j))) in A:\n",
    "        j += 1\n",
    "    sn = l+str(j)\n",
    "    for i in range(len(A[str(s)][0])): #elemek kiválasztása, melyek átkerülnek az új állapotba\n",
    "        if random.random() > 0.5:\n",
    "            v.append(A[s][0][i])\n",
    "        else:\n",
    "            r.append(A[s][0][i]) #ez lesz a regi\n",
    "    A[sn] = [v] #új állapot létrehozás\n",
    "    A[sn].append(A[s][1])#új állapot kimenetek(ua, mint a régi állapot kimenetei)\n",
    "    for i in range(len(v)): #az új állapotban lévő elemek kiszedése a régi állapotból\n",
    "        A[s][0].remove(v[i])\n",
    "    for x in A:\n",
    "        if len(A[x][1])!=0:\n",
    "            if s in A[x][1]:\n",
    "                #x->s átmenet létezik\n",
    "                A[x][1].append(sn)\n",
    "            A[x][1] = rmdups(A[x][1])\n",
    "    return A"
   ]
  },
  {
   "cell_type": "markdown",
   "metadata": {},
   "source": [
    "### Automatát fájlba kiíró fv:"
   ]
  },
  {
   "cell_type": "code",
   "execution_count": null,
   "metadata": {},
   "outputs": [],
   "source": [
    "def writeautomaton(A,filename):\n",
    "    with open (filename,'w',newline='\\n') as f:\n",
    "        print('', file=f )\n",
    "        print('^', file=f)\n",
    "        print('$', file=f )\n",
    "        for x in A:\n",
    "            if len(A[x][0]) == 0:\n",
    "                raise ValueError(str(x)+' has no emission!')\n",
    "            else:\n",
    "                print(x, file=f, end='')\n",
    "                for i in A[x][0]:\n",
    "                    print(' ' + i + ' 0',file=f, end='')\n",
    "                print('',file=f)\n",
    "            print(x, file=f, end='')\n",
    "            if (A[x][1] != 0):\n",
    "                for j in A[x][1]:\n",
    "                    print(' ' + j + ' 0',file=f, end='')\n",
    "            else:\n",
    "                raise ValueError(str(x)+' has no transition!')\n",
    "            print('',file=f)\n"
   ]
  },
  {
   "cell_type": "markdown",
   "metadata": {},
   "source": [
    "### Függvény, ami beolvassa az adott mappából az összes automata nevét:"
   ]
  },
  {
   "cell_type": "code",
   "execution_count": null,
   "metadata": {},
   "outputs": [],
   "source": [
    "def readfolderwfsa(foldername): #mappabol beolvassa a wfsa fajlok neveit\n",
    "    A = []\n",
    "    g = os.listdir(foldername)\n",
    "    for i in g:\n",
    "        l = i.split(\".\")\n",
    "        if l[-1] == 'wfsa':\n",
    "            A.append(i)\n",
    "        else: \n",
    "            continue\n",
    "    return A"
   ]
  },
  {
   "cell_type": "markdown",
   "metadata": {},
   "source": [
    "### Függvény, ami beolvassa az adott mappából az összes kiértékelt fájl nevét:\n"
   ]
  },
  {
   "cell_type": "code",
   "execution_count": null,
   "metadata": {},
   "outputs": [],
   "source": [
    "def readfolderevaled(foldername):\n",
    "    A = []\n",
    "    g = os.listdir(foldername)\n",
    "    for i in g:\n",
    "        l = i.split(\".\")\n",
    "        if l[-1] == 'evaled':\n",
    "            A.append(i)\n",
    "        else: \n",
    "            continue\n",
    "    return A"
   ]
  },
  {
   "cell_type": "code",
   "execution_count": null,
   "metadata": {},
   "outputs": [],
   "source": [
    "def learnedname(filename): #hozzateszi a filenevhez h .learned\n",
    "    f = filename + '.learned'\n",
    "    return f"
   ]
  },
  {
   "cell_type": "code",
   "execution_count": null,
   "metadata": {},
   "outputs": [],
   "source": [
    "def evaledname(filename):\n",
    "    f = filename + '.evaled'\n",
    "    return f"
   ]
  },
  {
   "cell_type": "markdown",
   "metadata": {},
   "source": [
    "### Kiértékelő függvény:"
   ]
  },
  {
   "cell_type": "code",
   "execution_count": null,
   "metadata": {},
   "outputs": [],
   "source": [
    "def evaluation(filename,nn=10**9):\n",
    "    with open(learnedname(filename), 'w') as f:\n",
    "        result = subprocess.run([wfsa_path,\n",
    "                        '-c', data_path, \n",
    "                        '-a', filename, '-n', '-eval','-i','8'], \n",
    "                        encoding='utf8', stderr=subprocess.PIPE, stdout=f)\n",
    "    if result.returncode == 0:\n",
    "        r = result.stderr.split('Result: ')[-1].strip().split(' ')\n",
    "        n = []\n",
    "        #print(result.stderr) #kiírjuk-e a részleteket is\n",
    "        try:\n",
    "            for i in r:\n",
    "                n.append(float(i))\n",
    "        except:\n",
    "            return(float('inf'))\n",
    "        e = max(n[0]+n[1] - delta,0)+((n[2]+n[3])/nn)+((n[4]+n[5])/(2*nn))+(n[6]/(2*nn))*math.log(nn/(2*math.pi))\n",
    "        return e\n",
    "    else:\n",
    "        return(float('inf'))"
   ]
  },
  {
   "cell_type": "markdown",
   "metadata": {},
   "source": [
    "### Egész mappát kiértékelő függvény, majd egy gyors kiértékelő függvény:"
   ]
  },
  {
   "cell_type": "code",
   "execution_count": null,
   "metadata": {},
   "outputs": [],
   "source": [
    "def evaluatefolder(foldername): #egesz mappat kiértékel\n",
    "    A = readfolderwfsa(foldername)\n",
    "    for i in A:\n",
    "        if os.path.isfile(foldername + str('/') + evaledname(i)):\n",
    "            continue\n",
    "        else:\n",
    "            with open(evaledname(foldername + str('/') + i),'w+') as f:\n",
    "                print(evaluation(foldername + str('/') + i), file=f)"
   ]
  },
  {
   "cell_type": "code",
   "execution_count": null,
   "metadata": {},
   "outputs": [],
   "source": [
    "def evaluatefast(filename):\n",
    "    if os.path.isfile(evaledname(filename)):\n",
    "        with open (evaledname(filename)) as f:\n",
    "            content = f.readlines()\n",
    "        return float(content[0])\n",
    "    else:\n",
    "        with open(evaledname(filename),'w+') as f:\n",
    "            print(evaluation(filename), file=f)\n",
    "        return evaluation(filename)"
   ]
  },
  {
   "cell_type": "markdown",
   "metadata": {},
   "source": [
    "### Létrehoz egy mappát, vagy ha már létezik ez a mappa, törli majd újra létrehozza:"
   ]
  },
  {
   "cell_type": "code",
   "execution_count": null,
   "metadata": {},
   "outputs": [],
   "source": [
    "def safenewdirectory(foldername):\n",
    "    if os.path.isdir(foldername):\n",
    "        shutil.rmtree(foldername)\n",
    "        os.mkdir(foldername)\n",
    "    else:\n",
    "        os.mkdir(foldername)"
   ]
  },
  {
   "cell_type": "markdown",
   "metadata": {},
   "source": [
    "### Mutációfüggvény"
   ]
  },
  {
   "cell_type": "code",
   "execution_count": null,
   "metadata": {},
   "outputs": [],
   "source": [
    "def mutate(V):\n",
    "    r = random.random()\n",
    "    if r > 0.5:\n",
    "        if len(list(V.keys())) < 3: \n",
    "            return(V)\n",
    "        else:\n",
    "            l = random.sample(list(V.keys()),2)\n",
    "            s = l[0]\n",
    "            t = l[1]\n",
    "            if (s == '^') or (t == '^'): #ne mergelje ^t\n",
    "                return(V)\n",
    "            else:\n",
    "                try:\n",
    "                    new = mergestate(V,s,t)\n",
    "                    return(new)\n",
    "                except:\n",
    "                    return(V)\n",
    "    else:\n",
    "        s = random.choice(list(V.keys()))\n",
    "        if len(V[str(s)][0])<2: #ne bontson szet 5nél kisebb allapotot\n",
    "            return(V)\n",
    "        else:\n",
    "            if s == '^': #ne splitelje ^t\n",
    "                return(V)\n",
    "            else:\n",
    "                try:\n",
    "                    new = splitstate(V,s)\n",
    "                    return(new)\n",
    "                except:\n",
    "                    return(V)"
   ]
  },
  {
   "cell_type": "code",
   "execution_count": null,
   "metadata": {},
   "outputs": [],
   "source": [
    "def rmnumbers(filename):\n",
    "    result = ''.join([i for i in filename if not i.isdigit()])\n",
    "    l = result.split('.')\n",
    "    return l"
   ]
  },
  {
   "cell_type": "markdown",
   "metadata": {},
   "source": [
    "### Kiválasztó függvény, a pop_size változó szerint tartja meg a legjobbakat:"
   ]
  },
  {
   "cell_type": "code",
   "execution_count": null,
   "metadata": {},
   "outputs": [],
   "source": [
    "def selection(foldername):\n",
    "    evaluatefolder(foldername)\n",
    "    E = readfolderwfsa(foldername)\n",
    "    l = dict()\n",
    "    for i in range(0,len(E)):\n",
    "        l[E[i]] = evaluatefast(foldername + '/' + E[i])\n",
    "    sorted_l = sorted(l.items(), key=operator.itemgetter(1))\n",
    "    h = len(sorted_l)\n",
    "    for i in range(0,len(sorted_l)):\n",
    "        if i < pop_size: #ezzel lehet varialni\n",
    "            continue\n",
    "        else:\n",
    "            os.remove(foldername + '/' + sorted_l[i][0])\n",
    "            os.remove(learnedname(foldername + '/' + sorted_l[i][0]))\n",
    "            os.remove(evaledname(foldername + '/' + sorted_l[i][0]))\n",
    "    print(sorted_l[0])\n",
    "    print(foldername)"
   ]
  },
  {
   "cell_type": "markdown",
   "metadata": {},
   "source": [
    "### Új generáció létrehozása az előzőből(pg:previous generation):"
   ]
  },
  {
   "cell_type": "code",
   "execution_count": null,
   "metadata": {},
   "outputs": [],
   "source": [
    "def createnewgen2(pg):\n",
    "    files = os.listdir(start_pop + str(pg))\n",
    "    safenewdirectory(start_pop + str(pg+1))\n",
    "    for f in files:\n",
    "        shutil.copy(start_pop + str(pg) +'/' + f, start_pop + str(pg+1))\n",
    "    A = readfolderwfsa(start_pop + str(pg+1))\n",
    "    for a in A:\n",
    "        V = readautomaton(start_pop + str(pg+1) + '/' + a)\n",
    "        new = mutate(V)\n",
    "        i = 0\n",
    "        l = rmnumbers(a)\n",
    "        while os.path.exists(start_pop + str(pg+1) + '/' + l[0] + str(i) + \".\" + l[1]):\n",
    "            i += 1\n",
    "        try:\n",
    "            writeautomaton(new,start_pop + str(pg+1) + '/' + l[0] + str(i) + \".\" + l[1])\n",
    "        except:\n",
    "            continue\n",
    "            #writeautomaton(V,start_pop + str(pg+1) + '/' + l[0] + str(i) + \".\" + l[1])\n",
    "    selection(start_pop + str(pg+1))"
   ]
  },
  {
   "cell_type": "markdown",
   "metadata": {},
   "source": [
    "### A genetikus algoritmus futtatása:"
   ]
  },
  {
   "cell_type": "code",
   "execution_count": null,
   "metadata": {},
   "outputs": [],
   "source": [
    "%%time\n",
    "for i in range(1,max_it):\n",
    "    createnewgen2(i)"
   ]
  },
  {
   "cell_type": "markdown",
   "metadata": {},
   "source": [
    "### Automata kirajzolása graphwiz segítségével:"
   ]
  },
  {
   "cell_type": "code",
   "execution_count": null,
   "metadata": {},
   "outputs": [],
   "source": [
    "def readautomatondraw(filename):\n",
    "    with open(filename) as f:\n",
    "        content = f.readlines()\n",
    "    A = dict()\n",
    "    for i in range(3,len(content)):\n",
    "        sor = []\n",
    "        l = content[i].split(\" \")\n",
    "        a = l[0]\n",
    "        s = '\\\\'\n",
    "        for j in range(1,len(l)):\n",
    "            if s in r\"%r\" % l[j]:\n",
    "                l[j] = l[j][:-1]\n",
    "            sor.append(l[j])\n",
    "        if a in A:\n",
    "            A[a].append(sor)\n",
    "        else:\n",
    "            A[a] = [sor]\n",
    "    return A"
   ]
  },
  {
   "cell_type": "code",
   "execution_count": null,
   "metadata": {},
   "outputs": [],
   "source": [
    "def gvfilename(filename):\n",
    "    filename = filename +'.gv'\n",
    "    return filename"
   ]
  },
  {
   "cell_type": "markdown",
   "metadata": {},
   "source": [
    "#### Csak az átmenetek ábrázolása:"
   ]
  },
  {
   "cell_type": "code",
   "execution_count": null,
   "metadata": {},
   "outputs": [],
   "source": [
    "def togvout(filename): #outs to graph\n",
    "    A = readautomatondraw(filename)\n",
    "    with open (gvfilename(filename),'w') as f:\n",
    "        print('digraph wfsa {', file=f )\n",
    "        print('\\trankdir = LR;', file=f)\n",
    "        print('\\tsize = \"8.5\"', file=f)\n",
    "        print('\\tnode [shape = circle];', file=f)\n",
    "        for i in A:\n",
    "            for j in range(0,len(A[i][1]),2):\n",
    "                print('\\t\"'+str(i) + '\" -> \"' + str(A[i][1][j]) + '\" [ label = \"' + str(A[i][1][j+1]) + '\"];', file = f)\n",
    "            #for j in range(0,len(A[i][1]),2):\n",
    "            #    print('\\t\"'+str(i) + '\" -> \"' + str(A[i][1][j]) +'\";', file = f)\n",
    "            #for j in range(0,len(A[i][0]),2):\n",
    "            #    print('\\t\"'+str(i) + '\" -> \"' + str(A[i][0][j]) + '\" [ label = \"' + str(A[i][0][j+1]) + '\"];', file = f)\n",
    "        print('}', file = f, end='')"
   ]
  },
  {
   "cell_type": "markdown",
   "metadata": {},
   "source": [
    "#### Csak a kimenetek ábrázolása:"
   ]
  },
  {
   "cell_type": "code",
   "execution_count": null,
   "metadata": {},
   "outputs": [],
   "source": [
    "def togvem(filename): #emissions to graph\n",
    "    A = readautomatondraw(filename)\n",
    "    with open (gvfilename(filename),'w') as f:\n",
    "        print('digraph wfsa {', file=f )\n",
    "        print('\\trankdir = LR;', file=f)\n",
    "        print('\\tsize = \"8.5\"', file=f)\n",
    "        print('\\tnode [shape = circle];', file=f, end='')\n",
    "        for i in A:\n",
    "            print(' \"' + str(i) + '\"', file= f, end = '')\n",
    "            print('\"$\"', file = f, end = '')\n",
    "        print(';',file= f)\n",
    "        print('\\tnode [shape = box];', file=f)\n",
    "        for i in A:\n",
    "            for j in range(0,len(A[i][1]),2):\n",
    "                print('\\t\"'+str(i) + '\" -> \"' + str(A[i][1][j]) + '\" [ label = \"' + str(A[i][1][j+1]) + '\"];', file = f)\n",
    "            #for j in range(0,len(A[i][0]),2):\n",
    "            #    print('\\t\"'+str(i) + '\" -> \"' + str(A[i][0][j]) + '\" [ label = \"' + str(A[i][0][j+1]) + '\"];', file = f)\n",
    "        print('}', file = f, end='')"
   ]
  },
  {
   "cell_type": "code",
   "execution_count": null,
   "metadata": {},
   "outputs": [],
   "source": [
    "def createdrawem(filename):\n",
    "    togvem(filename)\n",
    "    A = Source.from_file(gvfilename(filename))\n",
    "    A.view()"
   ]
  },
  {
   "cell_type": "code",
   "execution_count": null,
   "metadata": {},
   "outputs": [],
   "source": [
    "def createdrawout(filename):\n",
    "    togvout(filename)\n",
    "    A = Source.from_file(gvfilename(filename))\n",
    "    A.view()"
   ]
  },
  {
   "cell_type": "markdown",
   "metadata": {},
   "source": [
    "### LaTeX forráskód létrehozása, mely táblázatos formában ábrázolja az automatát:"
   ]
  },
  {
   "cell_type": "code",
   "execution_count": null,
   "metadata": {},
   "outputs": [],
   "source": [
    "def specialchars(szoveg):\n",
    "    if szoveg=='$':\n",
    "        return('\\\\$')\n",
    "    if szoveg=='^':\n",
    "        return('$\\\\wedge$')\n",
    "    if szoveg=='':\n",
    "        return('<üres sztring>')\n",
    "    else:\n",
    "        return szoveg"
   ]
  },
  {
   "cell_type": "code",
   "execution_count": null,
   "metadata": {},
   "outputs": [],
   "source": [
    "def totable(filename):\n",
    "    A = readautomaton(filename)\n",
    "    print('\\\\begin{table}')\n",
    "    print('\\\\begin{tabular}{|l|p{6cm}|p{5cm}|}\\n\\hline \\nÁllapot & Emissziók & Kimenetek\\\\\\\\\\n\\\\hline\\n\\\\hline')\n",
    "    for a in A:\n",
    "        u = specialchars(a)\n",
    "        print(u+' & ',end='')\n",
    "        for i in range(0,len(A[a][0]),1):\n",
    "            v = specialchars(A[a][0][i])\n",
    "            if i == len(A[a][0])-1:\n",
    "                print(v, end = '') \n",
    "            else:\n",
    "                print(v + ', ',end='')\n",
    "        print(' & ',end='')\n",
    "        for i in range(0,len(A[a][1]),1):\n",
    "            w = specialchars(A[a][1][i])\n",
    "            if i == len(A[a][1])-1:\n",
    "                print(w, end = '') \n",
    "            else:\n",
    "                print(w + ', ',end='')\n",
    "        print('\\\\\\\\')\n",
    "        print('\\\\hline')\n",
    "    print('\\\\end{tabular}')\n",
    "    print('\\\\caption{}')\n",
    "    print('\\\\end{table}')"
   ]
  }
 ],
 "metadata": {
  "kernelspec": {
   "display_name": "Python 3",
   "language": "python",
   "name": "python3"
  },
  "language_info": {
   "codemirror_mode": {
    "name": "ipython",
    "version": 3
   },
   "file_extension": ".py",
   "mimetype": "text/x-python",
   "name": "python",
   "nbconvert_exporter": "python",
   "pygments_lexer": "ipython3",
   "version": "3.7.1"
  }
 },
 "nbformat": 4,
 "nbformat_minor": 2
}
